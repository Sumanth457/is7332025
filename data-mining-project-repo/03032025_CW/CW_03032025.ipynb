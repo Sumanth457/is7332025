{
 "cells": [
  {
   "cell_type": "code",
   "execution_count": 14,
   "id": "c3610282",
   "metadata": {},
   "outputs": [
    {
     "name": "stdout",
     "output_type": "stream",
     "text": [
      "Naive Bayes Accuracy: 0.535\n",
      "KNN Accuracy: 0.535\n"
     ]
    }
   ],
   "source": [
    "#1.b) \n",
    "\n",
    "import pandas as pd\n",
    "from sklearn.model_selection import train_test_split\n",
    "from sklearn.naive_bayes import GaussianNB\n",
    "from sklearn.neighbors import KNeighborsClassifier\n",
    "from sklearn.metrics import accuracy_score\n",
    "\n",
    "\n",
    "file_path = r\"https://raw.githubusercontent.com/Sumanth457/is7332025/refs/heads/main/data-mining-project-repo/03032025_CW/hamspam.csv\"\n",
    "df = pd.read_csv(file_path)\n",
    "\n",
    "\n",
    "df['Contains Link'] = df['Contains Link'].map({'Yes': 1, 'No': 0})\n",
    "df['Contains Money Words'] = df['Contains Money Words'].map({'Yes': 1, 'No': 0})\n",
    "df['Length'] = df['Length'].map({'Long': 1, 'Short': 0})\n",
    "df['Class'] = df['Class'].map({'Spam': 1, 'Ham': 0})\n",
    "\n",
    "X = df[['Contains Link', 'Contains Money Words', 'Length']]\n",
    "y = df['Class']\n",
    "\n",
    "X_train, X_test, y_train, y_test = train_test_split(X, y, test_size=0.2, random_state=42)\n",
    "\n",
    "# Naive Bayes\n",
    "nb_model = GaussianNB()\n",
    "nb_model.fit(X_train, y_train)\n",
    "y_pred_nb = nb_model.predict(X_test)\n",
    "print(\"Naive Bayes Accuracy:\", accuracy_score(y_test, y_pred_nb))\n",
    "\n",
    "# KNN\n",
    "knn_model = KNeighborsClassifier(n_neighbors=3)\n",
    "knn_model.fit(X_train, y_train)\n",
    "y_pred_knn = knn_model.predict(X_test)\n",
    "print(\"KNN Accuracy:\", accuracy_score(y_test, y_pred_knn))"
   ]
  },
  {
   "cell_type": "code",
   "execution_count": 16,
   "id": "faaaad6d",
   "metadata": {},
   "outputs": [
    {
     "name": "stdout",
     "output_type": "stream",
     "text": [
      "Threshold: 0.95 -> TP: 39, FP: 4, TN: 74, FN: 33, Total: 150\n",
      "Threshold: 0.9 -> TP: 46, FP: 5, TN: 73, FN: 26, Total: 150\n",
      "Threshold: 0.85 -> TP: 51, FP: 5, TN: 73, FN: 21, Total: 150\n",
      "Threshold: 0.8 -> TP: 54, FP: 5, TN: 73, FN: 18, Total: 150\n",
      "Threshold: 0.75 -> TP: 55, FP: 6, TN: 72, FN: 17, Total: 150\n",
      "Threshold: 0.7 -> TP: 58, FP: 6, TN: 72, FN: 14, Total: 150\n",
      "   Threshold  TP  FP  TN  FN       TPR       FPR\n",
      "0       0.95  39   4  74  33  0.541667  0.051282\n",
      "1       0.90  46   5  73  26  0.638889  0.064103\n",
      "2       0.85  51   5  73  21  0.708333  0.064103\n",
      "3       0.80  54   5  73  18  0.750000  0.064103\n",
      "4       0.75  55   6  72  17  0.763889  0.076923\n",
      "5       0.70  58   6  72  14  0.805556  0.076923\n"
     ]
    }
   ],
   "source": [
    "#2a)\n",
    "import pandas as pd\n",
    "\n",
    "\n",
    "\n",
    "file_path = \"https://raw.githubusercontent.com/Sumanth457/is7332025/refs/heads/main/data-mining-project-repo/03032025_CW/roc_data.csv\" \n",
    "df = pd.read_csv(file_path)  \n",
    "\n",
    "\n",
    "thresholds = [0.95, 0.90, 0.85, 0.80, 0.75, 0.70]\n",
    "\n",
    "\n",
    "total_pos = sum(df[\"True_Label\"] == 1)\n",
    "total_neg = sum(df[\"True_Label\"] == 0)\n",
    "\n",
    "\n",
    "results = []\n",
    "\n",
    "\n",
    "for threshold in thresholds:\n",
    "    df[\"Predicted_Label\"] = (df[\"Prediction\"] >= threshold).astype(int)\n",
    "    \n",
    "    TP = sum((df[\"Predicted_Label\"] == 1) & (df[\"True_Label\"] == 1))\n",
    "    FP = sum((df[\"Predicted_Label\"] == 1) & (df[\"True_Label\"] == 0))\n",
    "    TN = sum((df[\"Predicted_Label\"] == 0) & (df[\"True_Label\"] == 0))\n",
    "    FN = sum((df[\"Predicted_Label\"] == 0) & (df[\"True_Label\"] == 1))\n",
    "    \n",
    "    TPR = TP / total_pos if total_pos > 0 else 0\n",
    "    FPR = FP / total_neg if total_neg > 0 else 0\n",
    "\n",
    "    total_count = TP + FP + TN + FN\n",
    "    print(f\"Threshold: {threshold} -> TP: {TP}, FP: {FP}, TN: {TN}, FN: {FN}, Total: {total_count}\")\n",
    "\n",
    "    results.append([threshold, TP, FP, TN, FN, TPR, FPR])\n",
    "\n",
    "roc_table = pd.DataFrame(results, columns=[\"Threshold\", \"TP\", \"FP\", \"TN\", \"FN\", \"TPR\", \"FPR\"])\n",
    "\n",
    "print(roc_table)"
   ]
  },
  {
   "cell_type": "code",
   "execution_count": 17,
   "id": "256aa021",
   "metadata": {},
   "outputs": [
    {
     "data": {
      "image/png": "[encoded data removed]",
      "text/plain": [
       "<Figure size 432x432 with 1 Axes>"
      ]
     },
     "metadata": {
      "needs_background": "light"
     },
     "output_type": "display_data"
    }
   ],
   "source": [
    "#2.a) Plot \n",
    "import pandas as pd\n",
    "import matplotlib.pyplot as plt\n",
    "\n",
    "\n",
    "file_path = \"https://raw.githubusercontent.com/Sumanth457/is7332025/refs/heads/main/data-mining-project-repo/03032025_CW/roc_data.csv\" \n",
    "df = pd.read_csv(file_path) \n",
    "\n",
    "\n",
    "thresholds = [0.95, 0.90, 0.85, 0.80, 0.75, 0.70]\n",
    "\n",
    "\n",
    "tpr_values = []\n",
    "fpr_values = []\n",
    "\n",
    "\n",
    "total_pos = sum(df[\"True_Label\"] == 1)\n",
    "total_neg = sum(df[\"True_Label\"] == 0)\n",
    "\n",
    "for threshold in thresholds:\n",
    "    df[\"Predicted_Label\"] = (df[\"Prediction\"] >= threshold).astype(int)\n",
    "    \n",
    "    TP = sum((df[\"Predicted_Label\"] == 1) & (df[\"True_Label\"] == 1))\n",
    "    FP = sum((df[\"Predicted_Label\"] == 1) & (df[\"True_Label\"] == 0))\n",
    "    \n",
    "    TPR = TP / total_pos if total_pos > 0 else 0\n",
    "    FPR = FP / total_neg if total_neg > 0 else 0\n",
    "    \n",
    "    tpr_values.append(TPR)\n",
    "    fpr_values.append(FPR)\n",
    "\n",
    "\n",
    "plt.figure(figsize=(6, 6))\n",
    "plt.plot(fpr_values, tpr_values, marker='o', linestyle='-', color='b', label='ROC Curve')\n",
    "plt.plot([0, 1], [0, 1], linestyle='--', color='gray', label='Random Classifier')\n",
    "plt.xlabel(\"False Positive Rate (FPR)\")\n",
    "plt.ylabel(\"True Positive Rate (TPR)\")\n",
    "plt.title(\"ROC Curve\")\n",
    "plt.legend()\n",
    "plt.grid(True)\n",
    "plt.savefig(\"roc_curve_2a.png\")  \n",
    "plt.show()"
   ]
  },
  {
   "cell_type": "code",
   "execution_count": 18,
   "id": "f80613de",
   "metadata": {},
   "outputs": [
    {
     "data": {
      "image/png": "[encoded data removed]",
      "text/plain": [
       "<Figure size 432x288 with 1 Axes>"
      ]
     },
     "metadata": {
      "needs_background": "light"
     },
     "output_type": "display_data"
    },
    {
     "name": "stdout",
     "output_type": "stream",
     "text": [
      "AUC Score: 0.5091\n"
     ]
    }
   ],
   "source": [
    "#2.b)\n",
    "\n",
    "import pandas as pd\n",
    "import numpy as np\n",
    "from sklearn.model_selection import train_test_split\n",
    "from sklearn.naive_bayes import CategoricalNB\n",
    "from sklearn.preprocessing import LabelEncoder\n",
    "from sklearn.metrics import roc_curve, auc\n",
    "import matplotlib.pyplot as plt\n",
    "\n",
    "file_path = \"https://raw.githubusercontent.com/Sumanth457/is7332025/refs/heads/main/data-mining-project-repo/03032025_CW/hamspam.csv\"\n",
    "df = pd.read_csv(file_path, index_col='ID')\n",
    "\n",
    "# Encode categorical variables\n",
    "le = LabelEncoder()\n",
    "df['Contains Link'] = le.fit_transform(df['Contains Link'])\n",
    "df['Contains Money Words'] = le.fit_transform(df['Contains Money Words'])\n",
    "df['Length'] = le.fit_transform(df['Length'])\n",
    "df['Class'] = le.fit_transform(df['Class'])\n",
    "\n",
    "# Split features and target\n",
    "X = df[['Contains Link', 'Contains Money Words', 'Length']]\n",
    "y = df['Class']\n",
    "\n",
    "# Split into training and testing sets\n",
    "X_train, X_test, y_train, y_test = train_test_split(X, y, test_size=0.2, random_state=42)\n",
    "\n",
    "# Initialize and fit the Naive Bayes model\n",
    "nb_model = CategoricalNB()\n",
    "nb_model.fit(X_train, y_train)\n",
    "\n",
    "# Predict probabilities\n",
    "y_pred_proba = nb_model.predict_proba(X_test)[:, 1]\n",
    "\n",
    "# Calculate ROC curve and AUC score\n",
    "fpr, tpr, _ = roc_curve(y_test, y_pred_proba)\n",
    "roc_auc = auc(fpr, tpr)\n",
    "\n",
    "# Plot ROC curve\n",
    "plt.figure()\n",
    "plt.plot(fpr, tpr, color='darkorange', lw=2, label=f'ROC curve (AUC = {roc_auc:.2f})')\n",
    "plt.plot([0, 1], [0, 1], color='navy', lw=2, linestyle='--')\n",
    "plt.xlim([0.0, 1.0])\n",
    "plt.ylim([0.0, 1.05])\n",
    "plt.xlabel('False Positive Rate')\n",
    "plt.ylabel('True Positive Rate')\n",
    "plt.title('Receiver Operating Characteristic (ROC) Curve')\n",
    "plt.legend(loc=\"lower right\")\n",
    "plt.savefig(\"roc_curve_2b.png\") \n",
    "plt.show()\n",
    "\n",
    "print(f\"AUC Score: {roc_auc:.4f}\")\n"
   ]
  },
  {
   "cell_type": "code",
   "execution_count": null,
   "id": "317129d4",
   "metadata": {},
   "outputs": [],
   "source": []
  }
 ],
 "metadata": {
  "kernelspec": {
   "display_name": "Python 3 (ipykernel)",
   "language": "python",
   "name": "python3"
  },
  "language_info": {
   "codemirror_mode": {
    "name": "ipython",
    "version": 3
   },
   "file_extension": ".py",
   "mimetype": "text/x-python",
   "name": "python",
   "nbconvert_exporter": "python",
   "pygments_lexer": "ipython3",
   "version": "3.9.12"
  }
 },
 "nbformat": 4,
 "nbformat_minor": 5
}
